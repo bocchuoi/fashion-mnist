{
  "nbformat": 4,
  "nbformat_minor": 0,
  "metadata": {
    "colab": {
      "provenance": []
    },
    "kernelspec": {
      "name": "python3",
      "display_name": "Python 3"
    },
    "language_info": {
      "name": "python"
    }
  },
  "cells": [
    {
      "cell_type": "code",
      "execution_count": 20,
      "metadata": {
        "id": "jtDOUw7PMe3n"
      },
      "outputs": [],
      "source": [
        "from keras.datasets import fashion_mnist"
      ]
    },
    {
      "cell_type": "code",
      "source": [
        "(train_images, train_labels), (test_images, test_labels) = fashion_mnist.load_data()"
      ],
      "metadata": {
        "id": "qB7cYqKqNJaQ"
      },
      "execution_count": 21,
      "outputs": []
    },
    {
      "cell_type": "code",
      "source": [
        "# 1.\tWhat are the dimensions of train_images, train_labels, test_images, and test_labels?\n",
        "print(\"The dimension of train images is \" + str(train_images.ndim))\n",
        "print(\"The dimension of train label is \" + str(train_labels.ndim))\n",
        "print(\"The dimension of test images is \" + str(test_images.ndim))\n",
        "print(\"The dimension of test label is \" + str(test_labels.ndim))"
      ],
      "metadata": {
        "colab": {
          "base_uri": "https://localhost:8080/"
        },
        "id": "6Sve1eDtNYXH",
        "outputId": "6d95ee40-9cb2-421d-fe4b-76384c581e69"
      },
      "execution_count": 22,
      "outputs": [
        {
          "output_type": "stream",
          "name": "stdout",
          "text": [
            "The dimension of train images is 3\n",
            "The dimension of train label is 1\n",
            "The dimension of test images is 3\n",
            "The dimension of test label is 1\n"
          ]
        }
      ]
    },
    {
      "cell_type": "code",
      "source": [
        "# 2.\tWhat are the lengths of train_labels and test_labels?\n",
        "print(\"The length of train_labels is \" + str(len(train_labels)))\n",
        "print(\"The length of test_labels is \" + str(len(test_labels)))"
      ],
      "metadata": {
        "colab": {
          "base_uri": "https://localhost:8080/"
        },
        "id": "trpeyNrUNpTl",
        "outputId": "d789baf0-b02b-4408-da96-3651f781b6dd"
      },
      "execution_count": 23,
      "outputs": [
        {
          "output_type": "stream",
          "name": "stdout",
          "text": [
            "The length of train_labels is 60000\n",
            "The length of test_labels is 10000\n"
          ]
        }
      ]
    },
    {
      "cell_type": "code",
      "source": [
        "# 3.\tPlease show some of train and test labels.\n",
        "someIndexes = [1,5,10]\n",
        "print(train_labels[someIndexes])\n",
        "print(test_labels[someIndexes])"
      ],
      "metadata": {
        "colab": {
          "base_uri": "https://localhost:8080/"
        },
        "id": "9-sMbnXsOgdC",
        "outputId": "22d08f66-9fc0-478c-8bd7-a2009517cf8c"
      },
      "execution_count": 24,
      "outputs": [
        {
          "output_type": "stream",
          "name": "stdout",
          "text": [
            "[0 2 0]\n",
            "[2 1 4]\n"
          ]
        }
      ]
    },
    {
      "cell_type": "code",
      "source": [
        "# 4.\tPlease show the digital content of image index 5 in the training dataset.\n",
        "print(train_images[5].shape)\n",
        "train_images[5]"
      ],
      "metadata": {
        "colab": {
          "base_uri": "https://localhost:8080/"
        },
        "id": "FKuyGKEqOql9",
        "outputId": "7ef85e2e-2cb3-4e9d-f085-eb305ea9ca03"
      },
      "execution_count": 25,
      "outputs": [
        {
          "output_type": "stream",
          "name": "stdout",
          "text": [
            "(28, 28)\n"
          ]
        },
        {
          "output_type": "execute_result",
          "data": {
            "text/plain": [
              "array([[  0,   0,   0,   0,   1,   0,   0,   0,   0,  22,  88, 188, 172,\n",
              "        132, 125, 141, 199, 143,   9,   0,   0,   0,   1,   0,   0,   0,\n",
              "          0,   0],\n",
              "       [  0,   0,   0,   1,   0,   0,  20, 131, 199, 206, 196, 202, 242,\n",
              "        255, 255, 250, 222, 197, 206, 188, 126,  17,   0,   0,   0,   0,\n",
              "          0,   0],\n",
              "       [  0,   0,   0,   1,   0,  35, 214, 191, 183, 178, 175, 168, 150,\n",
              "        162, 159, 152, 158, 179, 183, 189, 195, 185,  82,   0,   0,   0,\n",
              "          0,   0],\n",
              "       [  0,   0,   0,   0,   0, 170, 190, 172, 177, 176, 171, 169, 162,\n",
              "        155, 148, 154, 169, 174, 175, 175, 177, 183, 188,  12,   0,   0,\n",
              "          0,   0],\n",
              "       [  0,   0,   0,   0,  25, 194, 180, 178, 174, 184, 187, 189, 187,\n",
              "        184, 181, 189, 200, 197, 193, 190, 178, 175, 194,  90,   0,   0,\n",
              "          0,   0],\n",
              "       [  0,   0,   0,   0,  42, 218, 191, 197, 208, 204, 211, 209, 210,\n",
              "        212, 211, 214, 215, 213, 214, 211, 211, 191, 200, 158,   0,   0,\n",
              "          0,   0],\n",
              "       [  0,   0,   0,   0,  88, 221, 215, 217, 219, 211, 185, 150, 118,\n",
              "        107,  99,  88,  83,  90, 135, 212, 203, 207, 219, 169,   0,   0,\n",
              "          0,   0],\n",
              "       [  0,   0,   0,   0,   0,  27, 118, 162,  40,   0,   0,   0,  10,\n",
              "         19,  28,  39,  47,  36,   0,   0, 203, 230, 220, 203,   0,   0,\n",
              "          0,   0],\n",
              "       [  0,   0,   0,   0, 138, 136,  71,  69,  54, 216, 217, 203, 184,\n",
              "        168, 163, 162, 163, 178, 221, 186,  38,  26,   7,   0,   0,   0,\n",
              "          0,   0],\n",
              "       [  0,   0,   0,   0,  67, 134, 154, 224, 129,  66,  81, 117, 129,\n",
              "        128, 132, 137, 131, 129,  86,  73, 157, 151, 134, 216,  18,   0,\n",
              "          0,   0],\n",
              "       [  0,   0,   0,   0, 203, 198, 172, 183, 206, 255, 255, 250, 243,\n",
              "        240, 239, 235, 238, 244, 255, 238, 184, 160,  86,  98,   0,   0,\n",
              "          0,   0],\n",
              "       [  0,   0,   0,   0, 122, 188, 224, 151, 105, 127,  97, 100, 105,\n",
              "        114, 117, 117, 113, 103,  98, 111, 142, 254, 191, 255,  49,   0,\n",
              "          0,   0],\n",
              "       [  0,   0,   0,   0, 163, 179, 200,  95, 154, 198, 197, 200, 200,\n",
              "        198, 197, 198, 199, 202, 200, 176,  86, 206, 157, 162,  10,   0,\n",
              "          0,   0],\n",
              "       [  0,   0,   0,   0, 197, 201, 229,  71, 144, 194, 181, 183, 179,\n",
              "        182, 180, 179, 180, 190, 185, 197,  76, 219, 185, 201,  34,   0,\n",
              "          0,   0],\n",
              "       [  0,   0,   0,   0, 199, 193, 226,  58, 154, 192, 184, 187, 184,\n",
              "        186, 184, 185, 183, 192, 191, 200,  56, 219, 203, 207,  60,   0,\n",
              "          0,   0],\n",
              "       [  0,   0,   0,   0, 201, 194, 224,  41, 163, 190, 186, 186, 184,\n",
              "        185, 183, 185, 178, 190, 194, 202,  33, 211, 200, 206,  73,   0,\n",
              "          0,   0],\n",
              "       [  0,   0,   0,   0, 201, 197, 222,  17, 172, 190, 186, 187, 182,\n",
              "        186, 185, 187, 180, 187, 193, 202,  26, 212, 202, 203,  76,   0,\n",
              "          0,   0],\n",
              "       [  0,   0,   0,   0, 200, 197, 223,   0, 177, 189, 184, 185, 178,\n",
              "        184, 183, 184, 180, 183, 189, 203,  35, 196, 203, 203,  84,   0,\n",
              "          0,   0],\n",
              "       [  0,   0,   0,   0, 200, 197, 223,   0, 185, 187, 185, 187, 180,\n",
              "        184, 182, 183, 178, 182, 183, 205,  44, 159, 207, 201,  85,   0,\n",
              "          0,   0],\n",
              "       [  0,   0,   0,   0, 187, 198, 225,   0, 194, 188, 184, 185, 180,\n",
              "        183, 183, 184, 181, 181, 177, 206,  46, 129, 211, 200,  88,   0,\n",
              "          0,   0],\n",
              "       [  0,   0,   0,   6, 186, 200, 211,   0, 199, 189, 184, 184, 185,\n",
              "        182, 183, 184, 185, 182, 175, 205,  50,  97, 216, 197,  93,   0,\n",
              "          0,   0],\n",
              "       [  0,   0,   0,   5, 185, 204, 184,   0, 202, 188, 182, 182, 183,\n",
              "        183, 184, 182, 180, 182, 174, 202,  63,  59, 220, 196,  94,   0,\n",
              "          0,   0],\n",
              "       [  0,   0,   0,   5, 184, 206, 157,   0, 204, 187, 187, 189, 192,\n",
              "        190, 190, 191, 190, 187, 183, 202,  78,  35, 222, 197,  95,   0,\n",
              "          0,   0],\n",
              "       [  0,   0,   0,   5, 183, 208, 127,   0, 197, 166, 153, 149, 149,\n",
              "        146, 148, 149, 150, 151, 158, 191,  90,   8, 223, 195,  99,   0,\n",
              "          0,   0],\n",
              "       [  0,   0,   0,   6, 184, 208, 114,   0, 204, 173, 161, 180, 176,\n",
              "        172, 173, 173, 174, 176, 162, 202, 115,   0, 229, 199, 105,   0,\n",
              "          0,   0],\n",
              "       [  0,   0,   0,   9, 178, 204, 115,   0, 121, 135, 114, 117, 114,\n",
              "        114, 117, 118, 119, 117, 113, 147,  63,   0, 225, 196, 107,   0,\n",
              "          0,   0],\n",
              "       [  0,   0,   0,  18, 180, 206, 131,   0,   0,   0,   0,   0,   0,\n",
              "          0,   0,   0,   0,   0,   0,   0,   0,   0, 224, 197, 123,   0,\n",
              "          0,   0],\n",
              "       [  0,   0,   0,   0, 141, 151,  76,   0,   1,   1,   0,   0,   0,\n",
              "          0,   0,   0,   0,   0,   0,   0,   0,   0, 133, 167,  73,   0,\n",
              "          0,   0]], dtype=uint8)"
            ]
          },
          "metadata": {},
          "execution_count": 25
        }
      ]
    },
    {
      "cell_type": "code",
      "source": [
        "# 5.\tPlease plot the image of the index 5 in the training dataset.\n",
        "import matplotlib.pyplot as plt\n",
        "plt.imshow(train_images[5], cmap=\"binary\")"
      ],
      "metadata": {
        "colab": {
          "base_uri": "https://localhost:8080/",
          "height": 283
        },
        "id": "kV1qGSGTT0Fk",
        "outputId": "2125c677-ac0c-41e8-9f96-2f358903d0b8"
      },
      "execution_count": 26,
      "outputs": [
        {
          "output_type": "execute_result",
          "data": {
            "text/plain": [
              "<matplotlib.image.AxesImage at 0x7f2f9f195ac0>"
            ]
          },
          "metadata": {},
          "execution_count": 26
        },
        {
          "output_type": "display_data",
          "data": {
            "text/plain": [
              "<Figure size 432x288 with 1 Axes>"
            ],
            "image/png": "[encoded data removed]"
          },
          "metadata": {
            "needs_background": "light"
          }
        }
      ]
    },
    {
      "cell_type": "code",
      "source": [
        "# 6.\tWhat is the label for the index 5 in the train_label and looking up in the below list, what does it mean?\n",
        "\n",
        "# 0.\tT-shirt/top\n",
        "# 1.\tTrouser\n",
        "# 2.\tPullover\n",
        "# 3.\tDress\n",
        "# 4.\tCoat\n",
        "# 5.\tSandal\n",
        "# 6.\tShirt\n",
        "# 7.\tSneaker\n",
        "# 8.\tBag\n",
        "# 9.\tAnkle boot\n",
        "\n",
        "print(f\"The label for train_images[5] is {train_labels[5]}. It means the true target(label) of digital image of index 5 is a Pullover\")"
      ],
      "metadata": {
        "colab": {
          "base_uri": "https://localhost:8080/"
        },
        "id": "fiwvYL6JPJ44",
        "outputId": "174b5922-e968-4635-aa20-e2d6a132602c"
      },
      "execution_count": 27,
      "outputs": [
        {
          "output_type": "stream",
          "name": "stdout",
          "text": [
            "The label for train_images[5] is 2. It means the true target(label) of digital image of index 5 is a Pullover\n"
          ]
        }
      ]
    },
    {
      "cell_type": "code",
      "source": [
        "# 7.\tPlease show the digital content of image index 500 in the testing dataset.\n",
        "test_images[500]"
      ],
      "metadata": {
        "colab": {
          "base_uri": "https://localhost:8080/"
        },
        "id": "WuiBMSTDPuep",
        "outputId": "6963cb5e-c159-4bef-b105-90aff386f24c"
      },
      "execution_count": 28,
      "outputs": [
        {
          "output_type": "execute_result",
          "data": {
            "text/plain": [
              "array([[  0,   0,   0,   0,   0,   0,   0,   0,   0,   0, 108,  93,  38,\n",
              "          0,   0,   0,   8,  76, 140,  34,   0,   0,   0,   1,   1,   0,\n",
              "          0,   0],\n",
              "       [  0,   0,   0,   0,   0,   0,   0,  30,  92,  69, 192, 183, 149,\n",
              "        214, 177, 194, 227, 154, 206, 143,  79,  46,   0,   0,   0,   0,\n",
              "          0,   0],\n",
              "       [  0,   0,   0,   0,   0,   0,  59, 127, 116,  85,  63, 184, 128,\n",
              "        104,   0,  10, 126, 138, 145,  59, 104, 118,  86,   0,   0,   0,\n",
              "          0,   0],\n",
              "       [  0,   0,   0,   0,   0,   3,  99,  92,  81,  81,  54,  67, 222,\n",
              "        255, 209, 206, 178, 184,  72,  69,  97,  97, 118,  24,   0,   2,\n",
              "          0,   0],\n",
              "       [  0,   0,   1,   1,   0,  60, 121, 138,  83,  64,  76,  68,  23,\n",
              "         35,  55,  52,  46,  36,  65,  72,  72,  76, 102, 110,   0,   0,\n",
              "          0,   0],\n",
              "       [  0,   0,   0,   0,   0, 112,  89,  52,  89,  72,  67,  69,  81,\n",
              "         73,  60,  71,  64,  55,  52,  73,  77,  88, 104, 108,  10,   0,\n",
              "          1,   0],\n",
              "       [  0,   0,   0,   0,  21, 110, 143, 131,  55, 181, 128,  54,  36,\n",
              "        158, 185,  44,  74, 150, 154,  71,  96,  88, 105, 131,  50,   0,\n",
              "          0,   0],\n",
              "       [  0,   0,   2,   0,  52, 139,  90,  99,  77, 187, 134, 238,  68,\n",
              "        203, 127,  31, 158, 165, 191,  73,  95,  83,  86,  91,  85,   0,\n",
              "          0,   0],\n",
              "       [  0,   0,   0,   0,  97, 104, 119, 135,  95, 137, 156, 209, 158,\n",
              "        185,  67,  91, 199, 150, 218, 123,  78, 106,  91, 129, 106,   0,\n",
              "          0,   0],\n",
              "       [  0,   0,   0,   0, 109,  97, 129, 109,  80, 154, 183, 153, 178,\n",
              "        170,  78, 178, 228, 156, 214, 135, 112,  92,  91, 101, 127,   4,\n",
              "          0,   0],\n",
              "       [  0,   0,   0,  10, 125, 102, 120, 146,  99, 189, 238,  76, 139,\n",
              "        111,  63, 238, 172,  48, 249,  91,  79,  79, 146, 110, 111,  35,\n",
              "          0,   0],\n",
              "       [  0,   0,   0,  32, 147,  78, 156, 143,  55, 165, 175,  64, 142,\n",
              "        114,  62, 152, 107,  68, 213,  90, 108, 155, 211,  74, 143,  53,\n",
              "          0,   0],\n",
              "       [  0,   0,   0,  46, 127, 105, 124, 246,  90,  69,  74, 101, 112,\n",
              "         79,  99, 112,  81,  96, 184,  97,  77, 112, 172,  65, 119, 100,\n",
              "          0,   0],\n",
              "       [  0,   0,   0,  87, 143, 107, 112, 213,  70, 116, 230,  83, 154,\n",
              "        146, 150, 223,  65,  93, 196, 121,  89, 146, 193,  92, 108, 105,\n",
              "          0,   0],\n",
              "       [  0,   0,   0,  97, 125, 125, 124, 157,  60, 119, 250,  70, 180,\n",
              "        158, 134, 177, 163, 107, 225,  82,  85, 167, 178,  87, 123, 114,\n",
              "          0,   0],\n",
              "       [  0,   0,   0, 107, 102, 135, 142, 117,  78, 123, 229,  36, 121,\n",
              "        129, 119, 162, 223, 117, 154,  88,  79, 186, 164,  68, 116, 129,\n",
              "         22,   0],\n",
              "       [  0,   0,  14, 116, 107, 133, 154, 124,  71, 156, 193,  85, 181,\n",
              "         92, 121, 167, 194, 185, 119,  78, 101, 138, 163, 105, 118, 101,\n",
              "         27,   0],\n",
              "       [  0,   0,  15, 117, 108, 117, 180, 129,  76, 117, 189, 208, 211,\n",
              "        105, 161, 187, 190, 221,  97,  98, 107,  93, 118, 104, 124, 128,\n",
              "         39,   0],\n",
              "       [  0,   0,  15, 112,  96, 114, 167, 115, 101,  81, 181, 170, 216,\n",
              "        154, 181, 193, 176, 220,  72, 107,  93, 102,  97, 120, 129, 111,\n",
              "         50,   0],\n",
              "       [  0,   0,  23, 129, 110, 121, 178,  80,  85, 109,  70,  63,  76,\n",
              "        108,  92,  60,  68,  65, 105,  90, 116,  91, 105, 102, 105, 110,\n",
              "         40,   0],\n",
              "       [  0,   0,  38, 119, 102, 142, 158,  97, 104, 100, 121, 119, 107,\n",
              "        121, 120,  89,  96, 127, 101,  99, 107,  95, 139, 163,  98, 108,\n",
              "         53,   0],\n",
              "       [  0,   0,  21, 102,  97, 148,  93,  80, 124,  92,  97,  99, 109,\n",
              "        131, 126, 109, 107, 104,  97, 104,  92, 106,  76, 165, 124, 129,\n",
              "         63,   0],\n",
              "       [  0,   0,  39, 106, 111, 130,  72, 104,  85,  96,  97,  96, 104,\n",
              "        129, 116,  88,  96,  99, 101,  90, 116, 106,  44, 147, 127, 106,\n",
              "         42,   0],\n",
              "       [  0,   0,  45, 131, 158,  83,  51, 128,  86, 101, 108, 100, 110,\n",
              "        137, 123,  91,  93, 114, 102, 108, 106, 117,  33, 125, 137, 101,\n",
              "         52,   0],\n",
              "       [  0,   0,  43,  87, 123,  79,  58, 116, 110,  81, 105, 119, 120,\n",
              "        140, 124, 115, 125, 110,  90, 110,  83, 140,   8,  99, 152, 117,\n",
              "         69,   0],\n",
              "       [  0,   0,  49, 121, 155,  51,  42, 116,  95,  97,  95,  93, 108,\n",
              "        147, 117,  83,  90,  89, 104,  97,  93, 131,   0,  67, 153,  95,\n",
              "         57,   0],\n",
              "       [  0,   0,  42,  93, 143,  19,  49, 112,  89, 101, 107,  99, 104,\n",
              "        145, 135,  97, 108, 112,  96,  96,  99, 128,   0,  27, 152,  92,\n",
              "         62,   0],\n",
              "       [  0,   0,  58,  91, 143,  10,  34,  88,  44,  63,  72,  68,  64,\n",
              "         71,  70,  62,  69,  59,  55,  77,  71, 112,   0,  20, 138,  89,\n",
              "         65,   0]], dtype=uint8)"
            ]
          },
          "metadata": {},
          "execution_count": 28
        }
      ]
    },
    {
      "cell_type": "code",
      "source": [
        "# 8.\tPlease plot the image of the index 500 in the testing dataset.\n",
        "import matplotlib.pyplot as plt\n",
        "plt.imshow(test_images[500], cmap=\"binary\")"
      ],
      "metadata": {
        "colab": {
          "base_uri": "https://localhost:8080/",
          "height": 283
        },
        "id": "TsOEFt_2QaiY",
        "outputId": "f90709be-626c-4d3a-fd61-aef3c7dd005b"
      },
      "execution_count": 29,
      "outputs": [
        {
          "output_type": "execute_result",
          "data": {
            "text/plain": [
              "<matplotlib.image.AxesImage at 0x7f2f9f16dc40>"
            ]
          },
          "metadata": {},
          "execution_count": 29
        },
        {
          "output_type": "display_data",
          "data": {
            "text/plain": [
              "<Figure size 432x288 with 1 Axes>"
            ],
            "image/png": "[encoded data removed]"
          },
          "metadata": {
            "needs_background": "light"
          }
        }
      ]
    },
    {
      "cell_type": "code",
      "source": [
        "# 9.\tWhat is the label for the index 500 in the test_label and looking up in the above list, what does it mean?\n",
        "print(f\"The label for train_images[5] is {train_labels[5]}. It means the true target(label) of test digital image of index 5 is a Pullover\")"
      ],
      "metadata": {
        "colab": {
          "base_uri": "https://localhost:8080/"
        },
        "id": "OmTzRgVFRY7g",
        "outputId": "40deeadb-fe29-42ed-9afa-72bdc94f273c"
      },
      "execution_count": 30,
      "outputs": [
        {
          "output_type": "stream",
          "name": "stdout",
          "text": [
            "The label for train_images[5] is 2. It means the true target(label) of test digital image of index 5 is a Pullover\n"
          ]
        }
      ]
    },
    {
      "cell_type": "code",
      "source": [
        "# 10.\tPlease import models and layers from the keras library.\n",
        "from tensorflow.keras import models\n",
        "from tensorflow.keras import layers"
      ],
      "metadata": {
        "id": "33X9DdzXSGM2"
      },
      "execution_count": 31,
      "outputs": []
    },
    {
      "cell_type": "code",
      "source": [
        "# 11.\tDefine a sequential model and call it myNetwork.\n",
        "myNetwork = models.Sequential()"
      ],
      "metadata": {
        "id": "mT7_eVyCTAR1"
      },
      "execution_count": 32,
      "outputs": []
    },
    {
      "cell_type": "code",
      "source": [
        "# 12.\tReshape the images from 28x28 to one column with 784 neurons (flattening) (use 2 methods, one from the book and one from the 20-minute video).\n",
        "# book method\n",
        "train_images.shape"
      ],
      "metadata": {
        "colab": {
          "base_uri": "https://localhost:8080/"
        },
        "id": "Pj9NLDqsTbH7",
        "outputId": "88caceab-8731-432a-95cc-49a86ed34957"
      },
      "execution_count": 33,
      "outputs": [
        {
          "output_type": "execute_result",
          "data": {
            "text/plain": [
              "(60000, 28, 28)"
            ]
          },
          "metadata": {},
          "execution_count": 33
        }
      ]
    },
    {
      "cell_type": "code",
      "source": [
        "train_images.reshape(60000, 28 * 28).shape"
      ],
      "metadata": {
        "colab": {
          "base_uri": "https://localhost:8080/"
        },
        "id": "bMBhzBpJY0sO",
        "outputId": "5ce7be12-5fee-445b-dcb8-3ce5f9ad1eb0"
      },
      "execution_count": 34,
      "outputs": [
        {
          "output_type": "execute_result",
          "data": {
            "text/plain": [
              "(60000, 784)"
            ]
          },
          "metadata": {},
          "execution_count": 34
        }
      ]
    },
    {
      "cell_type": "code",
      "source": [
        "# video method"
      ],
      "metadata": {
        "id": "rP4GS-C9ZBp2"
      },
      "execution_count": 35,
      "outputs": []
    },
    {
      "cell_type": "code",
      "source": [
        "import tensorflow as tf\n",
        "myNetwork.add(tf.keras.layers.Flatten())"
      ],
      "metadata": {
        "id": "yjAF7T5DbEYf"
      },
      "execution_count": 36,
      "outputs": []
    },
    {
      "cell_type": "code",
      "source": [
        "# 13.\tAlso, please normalize the image by dividing the image by 255 (use 2 methods, one from the book and one from the 20-minute video).\n",
        "# book method\n",
        "train_images / 255"
      ],
      "metadata": {
        "colab": {
          "base_uri": "https://localhost:8080/"
        },
        "id": "2fCw-vzPbLvp",
        "outputId": "69ed39e6-ea01-4135-c9af-2c3a90a9055d"
      },
      "execution_count": 37,
      "outputs": [
        {
          "output_type": "execute_result",
          "data": {
            "text/plain": [
              "array([[[0., 0., 0., ..., 0., 0., 0.],\n",
              "        [0., 0., 0., ..., 0., 0., 0.],\n",
              "        [0., 0., 0., ..., 0., 0., 0.],\n",
              "        ...,\n",
              "        [0., 0., 0., ..., 0., 0., 0.],\n",
              "        [0., 0., 0., ..., 0., 0., 0.],\n",
              "        [0., 0., 0., ..., 0., 0., 0.]],\n",
              "\n",
              "       [[0., 0., 0., ..., 0., 0., 0.],\n",
              "        [0., 0., 0., ..., 0., 0., 0.],\n",
              "        [0., 0., 0., ..., 0., 0., 0.],\n",
              "        ...,\n",
              "        [0., 0., 0., ..., 0., 0., 0.],\n",
              "        [0., 0., 0., ..., 0., 0., 0.],\n",
              "        [0., 0., 0., ..., 0., 0., 0.]],\n",
              "\n",
              "       [[0., 0., 0., ..., 0., 0., 0.],\n",
              "        [0., 0., 0., ..., 0., 0., 0.],\n",
              "        [0., 0., 0., ..., 0., 0., 0.],\n",
              "        ...,\n",
              "        [0., 0., 0., ..., 0., 0., 0.],\n",
              "        [0., 0., 0., ..., 0., 0., 0.],\n",
              "        [0., 0., 0., ..., 0., 0., 0.]],\n",
              "\n",
              "       ...,\n",
              "\n",
              "       [[0., 0., 0., ..., 0., 0., 0.],\n",
              "        [0., 0., 0., ..., 0., 0., 0.],\n",
              "        [0., 0., 0., ..., 0., 0., 0.],\n",
              "        ...,\n",
              "        [0., 0., 0., ..., 0., 0., 0.],\n",
              "        [0., 0., 0., ..., 0., 0., 0.],\n",
              "        [0., 0., 0., ..., 0., 0., 0.]],\n",
              "\n",
              "       [[0., 0., 0., ..., 0., 0., 0.],\n",
              "        [0., 0., 0., ..., 0., 0., 0.],\n",
              "        [0., 0., 0., ..., 0., 0., 0.],\n",
              "        ...,\n",
              "        [0., 0., 0., ..., 0., 0., 0.],\n",
              "        [0., 0., 0., ..., 0., 0., 0.],\n",
              "        [0., 0., 0., ..., 0., 0., 0.]],\n",
              "\n",
              "       [[0., 0., 0., ..., 0., 0., 0.],\n",
              "        [0., 0., 0., ..., 0., 0., 0.],\n",
              "        [0., 0., 0., ..., 0., 0., 0.],\n",
              "        ...,\n",
              "        [0., 0., 0., ..., 0., 0., 0.],\n",
              "        [0., 0., 0., ..., 0., 0., 0.],\n",
              "        [0., 0., 0., ..., 0., 0., 0.]]])"
            ]
          },
          "metadata": {},
          "execution_count": 37
        }
      ]
    },
    {
      "cell_type": "code",
      "source": [
        "# video method\n",
        "train_images = tf.keras.utils.normalize(train_images, axis=1)"
      ],
      "metadata": {
        "id": "0-RFO42zbkGy"
      },
      "execution_count": 38,
      "outputs": []
    },
    {
      "cell_type": "code",
      "source": [
        "# 14.\tAdd one hidden layer that has 512 neurons, using ‘relu’ activation function.\n",
        "myNetwork.add(layers.Dense(512, activation = \"relu\"))\n",
        "# output = relu(dot(input, W) + b)\n",
        "# A relu operation: relu(x) is max(x, 0)"
      ],
      "metadata": {
        "id": "4hnbEmY0gqZs"
      },
      "execution_count": 39,
      "outputs": []
    },
    {
      "cell_type": "code",
      "source": [
        "# 15.\tAdd another hidden layer that has 128 neurons, using ‘relu’ activation function.\n",
        "myNetwork.add(layers.Dense(128, activation = \"relu\"))"
      ],
      "metadata": {
        "id": "3aONcmIbgqOf"
      },
      "execution_count": 40,
      "outputs": []
    },
    {
      "cell_type": "code",
      "source": [
        "# 16.\tAdd the last layer as a 10-neuron dense layer that uses the ‘softmax’ as the activation function. Why we use softmax for the last layer? How does it work under the hood?\n",
        "myNetwork.add(layers.Dense(10, activation = \"softmax\"))"
      ],
      "metadata": {
        "id": "iprwiDn3hT5i"
      },
      "execution_count": 41,
      "outputs": []
    },
    {
      "cell_type": "code",
      "source": [
        "# 17.\tUse the following two settings for the compiler and run them separately and see what the differences are. \n",
        "# •\tOptimizer - adam,  loss 'sparse_categorical_crossentropy', metrics[‘accuracy’]\n",
        "# •\tOptimizer - rmsprop,  loss 'categorical_crossentropy', metrics[‘accuracy’]\n",
        "# 18.\tNow after the compilation, please try to find the pattern using the fit command. The epochs need to be 10 for this example.\n",
        "myNetwork.compile(optimizer=\"adam\", loss=\"sparse_categorical_crossentropy\", metrics=[\"accuracy\"])\n",
        "myNetwork.fit(train_images, train_labels, epochs = 10)"
      ],
      "metadata": {
        "colab": {
          "base_uri": "https://localhost:8080/"
        },
        "id": "CSgmBlxAhe8m",
        "outputId": "9db4960a-bd59-4e0a-ff45-fc190b81a3b1"
      },
      "execution_count": 42,
      "outputs": [
        {
          "output_type": "stream",
          "name": "stdout",
          "text": [
            "Epoch 1/10\n",
            "1875/1875 [==============================] - 20s 10ms/step - loss: 0.4590 - accuracy: 0.8292\n",
            "Epoch 2/10\n",
            "1875/1875 [==============================] - 23s 12ms/step - loss: 0.3437 - accuracy: 0.8724\n",
            "Epoch 3/10\n",
            "1875/1875 [==============================] - 26s 14ms/step - loss: 0.3091 - accuracy: 0.8840\n",
            "Epoch 4/10\n",
            "1875/1875 [==============================] - 19s 10ms/step - loss: 0.2824 - accuracy: 0.8926\n",
            "Epoch 5/10\n",
            "1875/1875 [==============================] - 23s 12ms/step - loss: 0.2648 - accuracy: 0.8999\n",
            "Epoch 6/10\n",
            "1875/1875 [==============================] - 23s 12ms/step - loss: 0.2493 - accuracy: 0.9050\n",
            "Epoch 7/10\n",
            "1875/1875 [==============================] - 22s 12ms/step - loss: 0.2347 - accuracy: 0.9108\n",
            "Epoch 8/10\n",
            "1875/1875 [==============================] - 24s 13ms/step - loss: 0.2221 - accuracy: 0.9158\n",
            "Epoch 9/10\n",
            "1875/1875 [==============================] - 26s 14ms/step - loss: 0.2112 - accuracy: 0.9191\n",
            "Epoch 10/10\n",
            "1875/1875 [==============================] - 22s 12ms/step - loss: 0.2012 - accuracy: 0.9236\n"
          ]
        },
        {
          "output_type": "execute_result",
          "data": {
            "text/plain": [
              "<keras.callbacks.History at 0x7f2f9f1461f0>"
            ]
          },
          "metadata": {},
          "execution_count": 42
        }
      ]
    },
    {
      "cell_type": "code",
      "source": [
        "# myNetwork.compile(optimizer=\"rmsprop\", loss=\"categorical_crossentropy\", metrics=[\"accuracy\"])\n",
        "# myNetwork.fit(train_images, train_labels, epochs = 10)\n",
        "# gives value error"
      ],
      "metadata": {
        "id": "ev8t0e66hfMz"
      },
      "execution_count": 43,
      "outputs": []
    },
    {
      "cell_type": "code",
      "source": [
        "# 19.\tHow do you compare the fashion_MNIST with what we learned in the class using the MNIST? What can we infer from the differences in the accuracy? What could be the reasons for that?\n",
        "from keras.datasets import mnist\n",
        "(train_x, train_y), (test_x, test_y) = mnist.load_data()\n",
        "plt.imshow(train_x[500], cmap=\"binary\")\n",
        "# There are many reasons that can cause differences in the accuracy:\n",
        "# + How the model was configured: number of hidden layers, how many neurons each layer has, the activation function used\n",
        "# + How the model was conmpiled: loss function, optimizer\n",
        "# + How the model was trained: The number of epoch, the batch size for each epoch"
      ],
      "metadata": {
        "colab": {
          "base_uri": "https://localhost:8080/",
          "height": 320
        },
        "id": "KfGwnCOXhfbx",
        "outputId": "db7962f7-01cb-4fa4-e471-8f9f29231b02"
      },
      "execution_count": 44,
      "outputs": [
        {
          "output_type": "stream",
          "name": "stdout",
          "text": [
            "Downloading data from https://storage.googleapis.com/tensorflow/tf-keras-datasets/mnist.npz\n",
            "11490434/11490434 [==============================] - 0s 0us/step\n"
          ]
        },
        {
          "output_type": "execute_result",
          "data": {
            "text/plain": [
              "<matplotlib.image.AxesImage at 0x7f2fa39dd460>"
            ]
          },
          "metadata": {},
          "execution_count": 44
        },
        {
          "output_type": "display_data",
          "data": {
            "text/plain": [
              "<Figure size 432x288 with 1 Axes>"
            ],
            "image/png": "[encoded data removed]"
          },
          "metadata": {
            "needs_background": "light"
          }
        }
      ]
    },
    {
      "cell_type": "code",
      "source": [
        "plt.imshow(train_images[500], cmap=\"binary\")"
      ],
      "metadata": {
        "colab": {
          "base_uri": "https://localhost:8080/",
          "height": 283
        },
        "id": "9Y16ruNo8spK",
        "outputId": "a6e23d8b-5a39-4be4-cb0e-937f0691ca41"
      },
      "execution_count": 45,
      "outputs": [
        {
          "output_type": "execute_result",
          "data": {
            "text/plain": [
              "<matplotlib.image.AxesImage at 0x7f2fa39aa310>"
            ]
          },
          "metadata": {},
          "execution_count": 45
        },
        {
          "output_type": "display_data",
          "data": {
            "text/plain": [
              "<Figure size 432x288 with 1 Axes>"
            ],
            "image/png": "[encoded data removed]"
          },
          "metadata": {
            "needs_background": "light"
          }
        }
      ]
    },
    {
      "cell_type": "code",
      "source": [
        "# 20.\tUse the evaluate to calculate the achieved accuracy and loss over the test images and labels. Do we have overfitting? \n",
        "test_loss, test_acc = myNetwork.evaluate(test_images, test_labels)"
      ],
      "metadata": {
        "colab": {
          "base_uri": "https://localhost:8080/"
        },
        "id": "tfiSpGJxhfow",
        "outputId": "882f2bfa-b17a-4b3c-9bb9-7ed4847b906c"
      },
      "execution_count": 46,
      "outputs": [
        {
          "output_type": "stream",
          "name": "stdout",
          "text": [
            "313/313 [==============================] - 2s 6ms/step - loss: 245.3536 - accuracy: 0.8348\n"
          ]
        }
      ]
    }
  ]
}